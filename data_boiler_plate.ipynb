{
 "cells": [
  {
   "cell_type": "markdown",
   "metadata": {},
   "source": [
    "# Importing libraries"
   ]
  },
  {
   "cell_type": "code",
   "execution_count": null,
   "metadata": {},
   "outputs": [],
   "source": [
    "import pandas as pd\n",
    "import numpy as np\n",
    "import json"
   ]
  },
  {
   "cell_type": "markdown",
   "metadata": {},
   "source": [
    "## Loading files"
   ]
  },
  {
   "cell_type": "code",
   "execution_count": null,
   "metadata": {
    "scrolled": true
   },
   "outputs": [],
   "source": [
    "fractions_file = 'myfile.xlsx'\n",
    "df_fractions = pd.read_excel(fractions_file)\n",
    "df_fractions.head()"
   ]
  },
  {
   "cell_type": "code",
   "execution_count": null,
   "metadata": {
    "scrolled": true
   },
   "outputs": [],
   "source": [
    "def load_json_file(filepath):\n",
    "    \"\"\"Obtains the information of a Json dump and stores it as an array of json's\"\"\"\n",
    "    new_json_array = []\n",
    "    try:\n",
    "        with open(filepath, 'r') as jsonfile:\n",
    "            new_json_array = [line for line in jsonfile.readlines()]\n",
    "    except Exception as e:\n",
    "        print(e)\n",
    "    return new_json_array\n",
    "\n",
    "# reading the JSON data using json.load()\n",
    "prod_db_file = 'new_dump.json'\n",
    "products_dict = load_json_file(prod_db_file)\n",
    "\n",
    "# converting json dataset from dictionary list to dataframe\n",
    "df_products = pd.DataFrame.from_records(map(json.loads, products_dict))\n",
    "# add a new column with index\n",
    "df_products.reset_index(level=0, inplace=True)\n",
    "# remove the column _id (mongo id)\n",
    "df_products = df_products.drop(columns=\"_id\")\n",
    "df_products.head()"
   ]
  },
  {
   "cell_type": "code",
   "execution_count": null,
   "metadata": {},
   "outputs": [],
   "source": []
  }
 ],
 "metadata": {
  "kernelspec": {
   "display_name": "Python 3",
   "language": "python",
   "name": "python3"
  },
  "language_info": {
   "codemirror_mode": {
    "name": "ipython",
    "version": 3
   },
   "file_extension": ".py",
   "mimetype": "text/x-python",
   "name": "python",
   "nbconvert_exporter": "python",
   "pygments_lexer": "ipython3",
   "version": "3.7.3"
  }
 },
 "nbformat": 4,
 "nbformat_minor": 2
}
